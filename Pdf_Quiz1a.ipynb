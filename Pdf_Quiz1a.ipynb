{
  "nbformat": 4,
  "nbformat_minor": 0,
  "metadata": {
    "colab": {
      "provenance": [],
      "authorship_tag": "ABX9TyPQzNsbDad/IfDHQM3k1+MS",
      "include_colab_link": true
    },
    "kernelspec": {
      "name": "python3",
      "display_name": "Python 3"
    },
    "language_info": {
      "name": "python"
    }
  },
  "cells": [
    {
      "cell_type": "markdown",
      "metadata": {
        "id": "view-in-github",
        "colab_type": "text"
      },
      "source": [
        "<a href=\"https://colab.research.google.com/github/Bkoome/Backward-Geocoding/blob/main/Pdf_Quiz1a.ipynb\" target=\"_parent\"><img src=\"https://colab.research.google.com/assets/colab-badge.svg\" alt=\"Open In Colab\"/></a>"
      ]
    },
    {
      "cell_type": "code",
      "execution_count": 5,
      "metadata": {
        "colab": {
          "base_uri": "https://localhost:8080/",
          "height": 52
        },
        "id": "hSQTGUnq1WDm",
        "outputId": "9668be39-6583-4229-da02-32c27f90bf91"
      },
      "outputs": [
        {
          "output_type": "stream",
          "name": "stdout",
          "text": [
            "Requirement already satisfied: reportlab in /usr/local/lib/python3.10/dist-packages (4.0.7)\n",
            "Requirement already satisfied: pillow>=9.0.0 in /usr/local/lib/python3.10/dist-packages (from reportlab) (9.4.0)\n"
          ]
        },
        {
          "output_type": "display_data",
          "data": {
            "text/plain": [
              "<IPython.core.display.Javascript object>"
            ],
            "application/javascript": [
              "\n",
              "    async function download(id, filename, size) {\n",
              "      if (!google.colab.kernel.accessAllowed) {\n",
              "        return;\n",
              "      }\n",
              "      const div = document.createElement('div');\n",
              "      const label = document.createElement('label');\n",
              "      label.textContent = `Downloading \"${filename}\": `;\n",
              "      div.appendChild(label);\n",
              "      const progress = document.createElement('progress');\n",
              "      progress.max = size;\n",
              "      div.appendChild(progress);\n",
              "      document.body.appendChild(div);\n",
              "\n",
              "      const buffers = [];\n",
              "      let downloaded = 0;\n",
              "\n",
              "      const channel = await google.colab.kernel.comms.open(id);\n",
              "      // Send a message to notify the kernel that we're ready.\n",
              "      channel.send({})\n",
              "\n",
              "      for await (const message of channel.messages) {\n",
              "        // Send a message to notify the kernel that we're ready.\n",
              "        channel.send({})\n",
              "        if (message.buffers) {\n",
              "          for (const buffer of message.buffers) {\n",
              "            buffers.push(buffer);\n",
              "            downloaded += buffer.byteLength;\n",
              "            progress.value = downloaded;\n",
              "          }\n",
              "        }\n",
              "      }\n",
              "      const blob = new Blob(buffers, {type: 'application/binary'});\n",
              "      const a = document.createElement('a');\n",
              "      a.href = window.URL.createObjectURL(blob);\n",
              "      a.download = filename;\n",
              "      div.appendChild(a);\n",
              "      a.click();\n",
              "      div.remove();\n",
              "    }\n",
              "  "
            ]
          },
          "metadata": {}
        },
        {
          "output_type": "display_data",
          "data": {
            "text/plain": [
              "<IPython.core.display.Javascript object>"
            ],
            "application/javascript": [
              "download(\"download_f560346b-73a6-4a60-90de-6fdacf503731\", \"1a_Report.pdf\", 2077)"
            ]
          },
          "metadata": {}
        },
        {
          "output_type": "display_data",
          "data": {
            "text/plain": [
              "<IPython.core.display.Javascript object>"
            ],
            "application/javascript": [
              "\n",
              "    async function download(id, filename, size) {\n",
              "      if (!google.colab.kernel.accessAllowed) {\n",
              "        return;\n",
              "      }\n",
              "      const div = document.createElement('div');\n",
              "      const label = document.createElement('label');\n",
              "      label.textContent = `Downloading \"${filename}\": `;\n",
              "      div.appendChild(label);\n",
              "      const progress = document.createElement('progress');\n",
              "      progress.max = size;\n",
              "      div.appendChild(progress);\n",
              "      document.body.appendChild(div);\n",
              "\n",
              "      const buffers = [];\n",
              "      let downloaded = 0;\n",
              "\n",
              "      const channel = await google.colab.kernel.comms.open(id);\n",
              "      // Send a message to notify the kernel that we're ready.\n",
              "      channel.send({})\n",
              "\n",
              "      for await (const message of channel.messages) {\n",
              "        // Send a message to notify the kernel that we're ready.\n",
              "        channel.send({})\n",
              "        if (message.buffers) {\n",
              "          for (const buffer of message.buffers) {\n",
              "            buffers.push(buffer);\n",
              "            downloaded += buffer.byteLength;\n",
              "            progress.value = downloaded;\n",
              "          }\n",
              "        }\n",
              "      }\n",
              "      const blob = new Blob(buffers, {type: 'application/binary'});\n",
              "      const a = document.createElement('a');\n",
              "      a.href = window.URL.createObjectURL(blob);\n",
              "      a.download = filename;\n",
              "      div.appendChild(a);\n",
              "      a.click();\n",
              "      div.remove();\n",
              "    }\n",
              "  "
            ]
          },
          "metadata": {}
        },
        {
          "output_type": "display_data",
          "data": {
            "text/plain": [
              "<IPython.core.display.Javascript object>"
            ],
            "application/javascript": [
              "download(\"download_16143143-5c40-4f0c-bcdb-76b33720f94e\", \"1b_Report.pdf\", 1995)"
            ]
          },
          "metadata": {}
        },
        {
          "output_type": "display_data",
          "data": {
            "text/plain": [
              "<IPython.core.display.Javascript object>"
            ],
            "application/javascript": [
              "\n",
              "    async function download(id, filename, size) {\n",
              "      if (!google.colab.kernel.accessAllowed) {\n",
              "        return;\n",
              "      }\n",
              "      const div = document.createElement('div');\n",
              "      const label = document.createElement('label');\n",
              "      label.textContent = `Downloading \"${filename}\": `;\n",
              "      div.appendChild(label);\n",
              "      const progress = document.createElement('progress');\n",
              "      progress.max = size;\n",
              "      div.appendChild(progress);\n",
              "      document.body.appendChild(div);\n",
              "\n",
              "      const buffers = [];\n",
              "      let downloaded = 0;\n",
              "\n",
              "      const channel = await google.colab.kernel.comms.open(id);\n",
              "      // Send a message to notify the kernel that we're ready.\n",
              "      channel.send({})\n",
              "\n",
              "      for await (const message of channel.messages) {\n",
              "        // Send a message to notify the kernel that we're ready.\n",
              "        channel.send({})\n",
              "        if (message.buffers) {\n",
              "          for (const buffer of message.buffers) {\n",
              "            buffers.push(buffer);\n",
              "            downloaded += buffer.byteLength;\n",
              "            progress.value = downloaded;\n",
              "          }\n",
              "        }\n",
              "      }\n",
              "      const blob = new Blob(buffers, {type: 'application/binary'});\n",
              "      const a = document.createElement('a');\n",
              "      a.href = window.URL.createObjectURL(blob);\n",
              "      a.download = filename;\n",
              "      div.appendChild(a);\n",
              "      a.click();\n",
              "      div.remove();\n",
              "    }\n",
              "  "
            ]
          },
          "metadata": {}
        },
        {
          "output_type": "display_data",
          "data": {
            "text/plain": [
              "<IPython.core.display.Javascript object>"
            ],
            "application/javascript": [
              "download(\"download_30a41cdc-ea8f-4c3b-a9c2-987f74aedf94\", \"1c_Report.pdf\", 2076)"
            ]
          },
          "metadata": {}
        },
        {
          "output_type": "display_data",
          "data": {
            "text/plain": [
              "<IPython.core.display.Javascript object>"
            ],
            "application/javascript": [
              "\n",
              "    async function download(id, filename, size) {\n",
              "      if (!google.colab.kernel.accessAllowed) {\n",
              "        return;\n",
              "      }\n",
              "      const div = document.createElement('div');\n",
              "      const label = document.createElement('label');\n",
              "      label.textContent = `Downloading \"${filename}\": `;\n",
              "      div.appendChild(label);\n",
              "      const progress = document.createElement('progress');\n",
              "      progress.max = size;\n",
              "      div.appendChild(progress);\n",
              "      document.body.appendChild(div);\n",
              "\n",
              "      const buffers = [];\n",
              "      let downloaded = 0;\n",
              "\n",
              "      const channel = await google.colab.kernel.comms.open(id);\n",
              "      // Send a message to notify the kernel that we're ready.\n",
              "      channel.send({})\n",
              "\n",
              "      for await (const message of channel.messages) {\n",
              "        // Send a message to notify the kernel that we're ready.\n",
              "        channel.send({})\n",
              "        if (message.buffers) {\n",
              "          for (const buffer of message.buffers) {\n",
              "            buffers.push(buffer);\n",
              "            downloaded += buffer.byteLength;\n",
              "            progress.value = downloaded;\n",
              "          }\n",
              "        }\n",
              "      }\n",
              "      const blob = new Blob(buffers, {type: 'application/binary'});\n",
              "      const a = document.createElement('a');\n",
              "      a.href = window.URL.createObjectURL(blob);\n",
              "      a.download = filename;\n",
              "      div.appendChild(a);\n",
              "      a.click();\n",
              "      div.remove();\n",
              "    }\n",
              "  "
            ]
          },
          "metadata": {}
        },
        {
          "output_type": "display_data",
          "data": {
            "text/plain": [
              "<IPython.core.display.Javascript object>"
            ],
            "application/javascript": [
              "download(\"download_f8289210-aace-45e3-9ce2-fbf5ce5fe158\", \"1d_Report.pdf\", 1936)"
            ]
          },
          "metadata": {}
        }
      ],
      "source": [
        "!pip install reportlab\n",
        "\n",
        "from reportlab.lib.pagesizes import letter\n",
        "from reportlab.pdfgen import canvas\n",
        "from google.colab import files\n",
        "\n",
        "def create_pdf(content, filename):\n",
        "    pdf_path = f\"{filename}.pdf\"\n",
        "    c = canvas.Canvas(pdf_path, pagesize=letter)\n",
        "\n",
        "    c.setFont(\"Helvetica\", 12)\n",
        "\n",
        "    for line in content:\n",
        "        c.drawString(100, 800, line)\n",
        "\n",
        "    c.save()\n",
        "\n",
        "    files.download(pdf_path)\n",
        "\n",
        "content_1a = [\n",
        "    \"1a) Is having heart disease independent of whether the respondent is diabetic?\",\n",
        "    \"\\nTwo-way Table:\",\n",
        "    \"The table displays counts for each combination of 'Heart Disease' and 'Diabetic':\",\n",
        "    \"| Diabetic       | No | No, borderline diabetes | Yes | Yes (during pregnancy) |\",\n",
        "    \"|----------------|----|--------------------------|-----|--------------------------|\",\n",
        "    \"| Heart Disease  | 225| 5                        | 40  | 1                        |\",\n",
        "    \"\\nChi-square Test Result:\",\n",
        "    \"The chi-square statistic (Chi2) is approximately 13.29, and the p-value is approximately 0.0041.\",\n",
        "    \"\\nInterpretation:\",\n",
        "    \"The p-value (0.0041) is less than the significance level (e.g., 0.05), indicating rejection of the null hypothesis.\",\n",
        "    \"Thus, there is evidence suggesting that having heart disease is not independent of being diabetic.\",\n",
        "    \"The association between heart disease and diabetes is statistically significant based on this chi-square test.\"\n",
        "]\n",
        "\n",
        "content_1b = [\n",
        "    \"1b) Is there a relationship between having heart disease and the general health condition of the respondent?\",\n",
        "    \"\\nTwo-way Table:\",\n",
        "    \"The table shows the counts for each combination of 'Heart Disease' and 'General Health':\",\n",
        "    \"| General Health | Excellent | Good | Fair | Poor |\",\n",
        "    \"|----------------|-----------|------|------|------|\",\n",
        "    \"| Heart Disease  |           |      |      |      |\",\n",
        "    \"| No             |           |      |      |      |\",\n",
        "    \"| Yes            |           |      |      |      |\",\n",
        "    \"\\nStacked Bar Graph:\",\n",
        "    \"(Include a visual representation of the stacked bar graph)\",\n",
        "    \"\\nChi-square Test Result:\",\n",
        "    \"The chi-square statistic (Chi2) is approximately [chi-square value], and the p-value is approximately [p-value].\",\n",
        "    \"\\nInterpretation:\",\n",
        "    \"(Provide an interpretation of the results based on the chi-square test)\"\n",
        "]\n",
        "\n",
        "content_1c = [\n",
        "    \"1c) Is there a relationship between having heart disease and the gender of the respondent?\",\n",
        "    \"\\nTwo-way Table:\",\n",
        "    \"The table shows the counts for each combination of 'Heart Disease' and 'Gender':\",\n",
        "    \"| Gender       | Female | Male |\",\n",
        "    \"|--------------|--------|------|\",\n",
        "    \"| Heart Disease | 156    | 115  |\",\n",
        "    \"| No           |        |      |\",\n",
        "    \"| Yes          |        |      |\",\n",
        "\n",
        "    \"\\nChi-square Test Result:\",\n",
        "    \"The chi-square statistic (Chi2) is approximately 4.75, and the p-value is approximately 0.0293.\",\n",
        "    \"\\nChi-square Test Result:\",\n",
        "    \"Chi2: 4.75, p-value: 0.0293\",\n",
        "    \"\\nInterpretation:\",\n",
        "    \"The p-value (0.0293) is less than the significance level, suggesting a statistically significant association between heart disease and gender.\",\n",
        "    \"Further interpretation is needed to understand the nature of this association.\"\n",
        "]\n",
        "\n",
        "content_1d = [\n",
        "    \"1d) Does doing physical activity lower the risk of having heart disease? If so, by how much?\",\n",
        "    \"\\nTwo-way Table:\",\n",
        "    \"The table shows the counts for each combination of 'Heart Disease' and 'Physical Activity':\",\n",
        "    \"| Physical Activity | No | Yes |\",\n",
        "    \"|---------------------|----|-----|\",\n",
        "    \"| Heart Disease       |    |     |\",\n",
        "    \"| No                  | 72 | 199 |\",\n",
        "    \"| Yes                 | 11 | 18  |\",\n",
        "    \"\\nProbability and Risk Reduction Calculation:\",\n",
        "    \"- Probability of having heart disease given doing physical activity: 0.0829\",\n",
        "    \"- Probability of having heart disease without doing physical activity: 0.1325\",\n",
        "    \"- Risk Reduction with Physical Activity: 0.0496\",\n",
        "    \"\\nInterpretation:\",\n",
        "    \"(Provide an interpretation of the probabilities and risk reduction calculation)\"\n",
        "]\n",
        "\n",
        "create_pdf(content_1a, \"1a_Report\")\n",
        "create_pdf(content_1b, \"1b_Report\")\n",
        "create_pdf(content_1c, \"1c_Report\")\n",
        "create_pdf(content_1d, \"1d_Report\")\n"
      ]
    },
    {
      "cell_type": "code",
      "source": [],
      "metadata": {
        "id": "msX6dMas1Ykb"
      },
      "execution_count": null,
      "outputs": []
    }
  ]
}